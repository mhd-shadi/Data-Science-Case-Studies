{
 "cells": [
  {
   "cell_type": "markdown",
   "metadata": {},
   "source": [
    "<h1>Case Study 1 - HR</h1>\n",
    "BY: MHD.SHADI HASAN"
   ]
  },
  {
   "cell_type": "markdown",
   "metadata": {},
   "source": [
    "<h2>Problem Background</h2>"
   ]
  },
  {
   "cell_type": "markdown",
   "metadata": {},
   "source": [
    "The HR department of company X has captured all the salary data of its employees from years 2011-2014. Assume we are now in the year 2015 and the organization is facing a financial crisis. As a first step, the HR department wants to analyze employee costs to save payroll budget. \n",
    "\n",
    "**Requirments**\n",
    "\n",
    "It is required to answer the following questions by analyzing the provided data.\n",
    "\n",
    "    1. How much the total salary has increased from year 2011 to 2014?\n",
    "    2. Which job title had the highest mean salary in the years 2011 through 2014?\n",
    "    3. How much money could have been saved in the year 2014 by stopping overtime pay?\n",
    "    4. Who were the top earning employees across all the years?\n",
    "    5. Which were the least 5 common job in 2014, and how much did they cost?\n",
    "    6. What percentage did overtime pay constitute of the total pay?\n",
    "    \n",
    "**Data**\n",
    "\n",
    "|Attribute|Values|\n",
    "|--|--|\n",
    "|Id|Special ID for each employee|\n",
    "|EmployeeName|Name of the employee as 'object'|\n",
    "|JobTitle| The position held by the employee|\n",
    "|BasePay|Continuous|\n",
    "|OvertimePay|Continuous|\n",
    "|OtherPay|Continuous|\n",
    "|Benefits|Continuous|\n",
    "|TotalPay|Continuous|\n",
    "|TotalPayBenefits|Continuous|\n",
    "|Year|The year in which the ammounts have been payed|\n",
    "|Notes|Object|\n",
    "|Agency|Object|\n",
    "|Status|Object|"
   ]
  },
  {
   "cell_type": "markdown",
   "metadata": {},
   "source": [
    "<h2>Data Preparation</h2>"
   ]
  },
  {
   "cell_type": "code",
   "execution_count": 1,
   "metadata": {},
   "outputs": [],
   "source": [
    "#import the needed libraries for the analysis\n",
    "import pandas as pd\n",
    "import numpy as np"
   ]
  },
  {
   "cell_type": "code",
   "execution_count": 2,
   "metadata": {},
   "outputs": [
    {
     "name": "stderr",
     "output_type": "stream",
     "text": [
      "C:\\Users\\GTS\\Anaconda\\lib\\site-packages\\IPython\\core\\interactiveshell.py:3057: DtypeWarning: Columns (12) have mixed types. Specify dtype option on import or set low_memory=False.\n",
      "  interactivity=interactivity, compiler=compiler, result=result)\n"
     ]
    },
    {
     "data": {
      "text/html": [
       "<div>\n",
       "<style scoped>\n",
       "    .dataframe tbody tr th:only-of-type {\n",
       "        vertical-align: middle;\n",
       "    }\n",
       "\n",
       "    .dataframe tbody tr th {\n",
       "        vertical-align: top;\n",
       "    }\n",
       "\n",
       "    .dataframe thead th {\n",
       "        text-align: right;\n",
       "    }\n",
       "</style>\n",
       "<table border=\"1\" class=\"dataframe\">\n",
       "  <thead>\n",
       "    <tr style=\"text-align: right;\">\n",
       "      <th></th>\n",
       "      <th>Id</th>\n",
       "      <th>EmployeeName</th>\n",
       "      <th>JobTitle</th>\n",
       "      <th>BasePay</th>\n",
       "      <th>OvertimePay</th>\n",
       "      <th>OtherPay</th>\n",
       "      <th>Benefits</th>\n",
       "      <th>TotalPay</th>\n",
       "      <th>TotalPayBenefits</th>\n",
       "      <th>Year</th>\n",
       "      <th>Notes</th>\n",
       "      <th>Agency</th>\n",
       "      <th>Status</th>\n",
       "    </tr>\n",
       "  </thead>\n",
       "  <tbody>\n",
       "    <tr>\n",
       "      <th>0</th>\n",
       "      <td>1</td>\n",
       "      <td>NATHANIEL FORD</td>\n",
       "      <td>GENERAL MANAGER-METROPOLITAN TRANSIT AUTHORITY</td>\n",
       "      <td>167411.18</td>\n",
       "      <td>0.00</td>\n",
       "      <td>400184.25</td>\n",
       "      <td>NaN</td>\n",
       "      <td>567595.43</td>\n",
       "      <td>567595.43</td>\n",
       "      <td>2011</td>\n",
       "      <td>NaN</td>\n",
       "      <td>San Francisco</td>\n",
       "      <td>NaN</td>\n",
       "    </tr>\n",
       "    <tr>\n",
       "      <th>1</th>\n",
       "      <td>2</td>\n",
       "      <td>GARY JIMENEZ</td>\n",
       "      <td>CAPTAIN III (POLICE DEPARTMENT)</td>\n",
       "      <td>155966.02</td>\n",
       "      <td>245131.88</td>\n",
       "      <td>137811.38</td>\n",
       "      <td>NaN</td>\n",
       "      <td>538909.28</td>\n",
       "      <td>538909.28</td>\n",
       "      <td>2011</td>\n",
       "      <td>NaN</td>\n",
       "      <td>San Francisco</td>\n",
       "      <td>NaN</td>\n",
       "    </tr>\n",
       "    <tr>\n",
       "      <th>2</th>\n",
       "      <td>3</td>\n",
       "      <td>ALBERT PARDINI</td>\n",
       "      <td>CAPTAIN III (POLICE DEPARTMENT)</td>\n",
       "      <td>212739.13</td>\n",
       "      <td>106088.18</td>\n",
       "      <td>16452.60</td>\n",
       "      <td>NaN</td>\n",
       "      <td>335279.91</td>\n",
       "      <td>335279.91</td>\n",
       "      <td>2011</td>\n",
       "      <td>NaN</td>\n",
       "      <td>San Francisco</td>\n",
       "      <td>NaN</td>\n",
       "    </tr>\n",
       "    <tr>\n",
       "      <th>3</th>\n",
       "      <td>4</td>\n",
       "      <td>CHRISTOPHER CHONG</td>\n",
       "      <td>WIRE ROPE CABLE MAINTENANCE MECHANIC</td>\n",
       "      <td>77916.00</td>\n",
       "      <td>56120.71</td>\n",
       "      <td>198306.90</td>\n",
       "      <td>NaN</td>\n",
       "      <td>332343.61</td>\n",
       "      <td>332343.61</td>\n",
       "      <td>2011</td>\n",
       "      <td>NaN</td>\n",
       "      <td>San Francisco</td>\n",
       "      <td>NaN</td>\n",
       "    </tr>\n",
       "    <tr>\n",
       "      <th>4</th>\n",
       "      <td>5</td>\n",
       "      <td>PATRICK GARDNER</td>\n",
       "      <td>DEPUTY CHIEF OF DEPARTMENT,(FIRE DEPARTMENT)</td>\n",
       "      <td>134401.60</td>\n",
       "      <td>9737.00</td>\n",
       "      <td>182234.59</td>\n",
       "      <td>NaN</td>\n",
       "      <td>326373.19</td>\n",
       "      <td>326373.19</td>\n",
       "      <td>2011</td>\n",
       "      <td>NaN</td>\n",
       "      <td>San Francisco</td>\n",
       "      <td>NaN</td>\n",
       "    </tr>\n",
       "  </tbody>\n",
       "</table>\n",
       "</div>"
      ],
      "text/plain": [
       "   Id       EmployeeName                                        JobTitle  \\\n",
       "0   1     NATHANIEL FORD  GENERAL MANAGER-METROPOLITAN TRANSIT AUTHORITY   \n",
       "1   2       GARY JIMENEZ                 CAPTAIN III (POLICE DEPARTMENT)   \n",
       "2   3     ALBERT PARDINI                 CAPTAIN III (POLICE DEPARTMENT)   \n",
       "3   4  CHRISTOPHER CHONG            WIRE ROPE CABLE MAINTENANCE MECHANIC   \n",
       "4   5    PATRICK GARDNER    DEPUTY CHIEF OF DEPARTMENT,(FIRE DEPARTMENT)   \n",
       "\n",
       "     BasePay  OvertimePay   OtherPay  Benefits   TotalPay  TotalPayBenefits  \\\n",
       "0  167411.18         0.00  400184.25       NaN  567595.43         567595.43   \n",
       "1  155966.02    245131.88  137811.38       NaN  538909.28         538909.28   \n",
       "2  212739.13    106088.18   16452.60       NaN  335279.91         335279.91   \n",
       "3   77916.00     56120.71  198306.90       NaN  332343.61         332343.61   \n",
       "4  134401.60      9737.00  182234.59       NaN  326373.19         326373.19   \n",
       "\n",
       "   Year  Notes         Agency Status  \n",
       "0  2011    NaN  San Francisco    NaN  \n",
       "1  2011    NaN  San Francisco    NaN  \n",
       "2  2011    NaN  San Francisco    NaN  \n",
       "3  2011    NaN  San Francisco    NaN  \n",
       "4  2011    NaN  San Francisco    NaN  "
      ]
     },
     "execution_count": 2,
     "metadata": {},
     "output_type": "execute_result"
    }
   ],
   "source": [
    "#read the data in CSV file to pandas dataframe\n",
    "df_main = pd.read_csv('Salaries.csv')\n",
    "df_main.head()"
   ]
  },
  {
   "cell_type": "markdown",
   "metadata": {},
   "source": [
    "<h2>Data Analysis</h2>"
   ]
  },
  {
   "cell_type": "markdown",
   "metadata": {},
   "source": [
    "<h3>1- How much the total salary has increased from year 2011 to 2014?</h3>\n",
    "\n",
    "To Answer this question, a total summation of salaries will be calculated for each year, then the results will be plotted to compare and track the increase in total salaries over the years 2011 to 2014. The increase is equal to the difference in total salaries ammount between 2014 and 2011; that is the total salaries payed in 2014 after subtracting the total salaries payed in 2011."
   ]
  },
  {
   "cell_type": "code",
   "execution_count": 3,
   "metadata": {},
   "outputs": [
    {
     "data": {
      "text/html": [
       "<div>\n",
       "<style scoped>\n",
       "    .dataframe tbody tr th:only-of-type {\n",
       "        vertical-align: middle;\n",
       "    }\n",
       "\n",
       "    .dataframe tbody tr th {\n",
       "        vertical-align: top;\n",
       "    }\n",
       "\n",
       "    .dataframe thead th {\n",
       "        text-align: right;\n",
       "    }\n",
       "</style>\n",
       "<table border=\"1\" class=\"dataframe\">\n",
       "  <thead>\n",
       "    <tr style=\"text-align: right;\">\n",
       "      <th></th>\n",
       "      <th>Year</th>\n",
       "      <th>TotalPayBenefits</th>\n",
       "    </tr>\n",
       "  </thead>\n",
       "  <tbody>\n",
       "    <tr>\n",
       "      <th>0</th>\n",
       "      <td>2011</td>\n",
       "      <td>2.594113e+09</td>\n",
       "    </tr>\n",
       "    <tr>\n",
       "      <th>1</th>\n",
       "      <td>2012</td>\n",
       "      <td>3.696790e+09</td>\n",
       "    </tr>\n",
       "    <tr>\n",
       "      <th>2</th>\n",
       "      <td>2013</td>\n",
       "      <td>3.814772e+09</td>\n",
       "    </tr>\n",
       "    <tr>\n",
       "      <th>3</th>\n",
       "      <td>2014</td>\n",
       "      <td>3.821866e+09</td>\n",
       "    </tr>\n",
       "  </tbody>\n",
       "</table>\n",
       "</div>"
      ],
      "text/plain": [
       "   Year  TotalPayBenefits\n",
       "0  2011      2.594113e+09\n",
       "1  2012      3.696790e+09\n",
       "2  2013      3.814772e+09\n",
       "3  2014      3.821866e+09"
      ]
     },
     "execution_count": 3,
     "metadata": {},
     "output_type": "execute_result"
    }
   ],
   "source": [
    "#create a dataframe of two columns: the year, and the total ammount payed in that year \n",
    "TotalByYear = df_main.groupby(by=[\"Year\"], as_index=False)[\"TotalPayBenefits\"].sum()\n",
    "TotalByYear"
   ]
  },
  {
   "cell_type": "code",
   "execution_count": 4,
   "metadata": {},
   "outputs": [],
   "source": [
    "#import the libraries needed to plot the above dataframe and see the increase in total salaries \n",
    "%matplotlib inline \n",
    "import matplotlib as mpl\n",
    "import matplotlib.pyplot as plt"
   ]
  },
  {
   "cell_type": "code",
   "execution_count": 5,
   "metadata": {},
   "outputs": [
    {
     "data": {
      "image/png": "[encoded data removed]",
      "text/plain": [
       "<Figure size 432x288 with 1 Axes>"
      ]
     },
     "metadata": {
      "needs_background": "light"
     },
     "output_type": "display_data"
    }
   ],
   "source": [
    "#plot the dataframe\n",
    "TotalByYear.plot(x='Year', y='TotalPayBenefits')\n",
    "\n",
    "plt.title('Total Salary From 2011 to 2014')\n",
    "plt.ylabel('Total Salary')\n",
    "plt.xlabel('Years')\n",
    "plt.xticks([2011, 2012, 2013, 2014])\n",
    "plt.ticklabel_format(style='plain')\n",
    "plt.legend().set_visible(False)\n",
    "\n",
    "plt.show()"
   ]
  },
  {
   "cell_type": "code",
   "execution_count": 6,
   "metadata": {},
   "outputs": [
    {
     "name": "stdout",
     "output_type": "stream",
     "text": [
      "Total Salary Payed in 2014 =  3821865780.5999904\n",
      "Total Salary Payed in 2011 =  2594113030.720046\n",
      "Total Salary Increase =  1227752749.8799443\n"
     ]
    }
   ],
   "source": [
    "#to calculate the increase in total salaries from 2011 to 2014\n",
    "TotalSalary2014 = TotalByYear.at[3,'TotalPayBenefits']\n",
    "TotalSalary2011 = TotalByYear.at[0,'TotalPayBenefits']\n",
    "Total_Salary_Increase = TotalSalary2014 - TotalSalary2011\n",
    "\n",
    "print('Total Salary Payed in 2014 = ',TotalSalary2014) #sum of salaries in 2014\n",
    "print('Total Salary Payed in 2011 = ',TotalSalary2011) #sum of total salaries in 2011\n",
    "print('Total Salary Increase = ',Total_Salary_Increase) #difference between 2014 and 2011; the total increase  "
   ]
  },
  {
   "cell_type": "markdown",
   "metadata": {},
   "source": [
    "<h3>2- Which job title had the highest mean salary in the years 2011 through 2014?</h3>\n",
    "\n",
    "Here we group the Salaries by job titles and then calculate the mean for each. Afterwards, job titles are to be sorted according to mean salaries in a descending order. The job title with the highest mean salary will be on top."
   ]
  },
  {
   "cell_type": "code",
   "execution_count": 7,
   "metadata": {},
   "outputs": [
    {
     "data": {
      "text/html": [
       "<div>\n",
       "<style scoped>\n",
       "    .dataframe tbody tr th:only-of-type {\n",
       "        vertical-align: middle;\n",
       "    }\n",
       "\n",
       "    .dataframe tbody tr th {\n",
       "        vertical-align: top;\n",
       "    }\n",
       "\n",
       "    .dataframe thead th {\n",
       "        text-align: right;\n",
       "    }\n",
       "</style>\n",
       "<table border=\"1\" class=\"dataframe\">\n",
       "  <thead>\n",
       "    <tr style=\"text-align: right;\">\n",
       "      <th></th>\n",
       "      <th>JobTitle</th>\n",
       "      <th>TotalPayBenefits</th>\n",
       "    </tr>\n",
       "  </thead>\n",
       "  <tbody>\n",
       "    <tr>\n",
       "      <th>0</th>\n",
       "      <td>ACCOUNT CLERK</td>\n",
       "      <td>44035.664337</td>\n",
       "    </tr>\n",
       "    <tr>\n",
       "      <th>1</th>\n",
       "      <td>ACCOUNTANT</td>\n",
       "      <td>47429.268000</td>\n",
       "    </tr>\n",
       "    <tr>\n",
       "      <th>2</th>\n",
       "      <td>ACCOUNTANT INTERN</td>\n",
       "      <td>29031.742917</td>\n",
       "    </tr>\n",
       "    <tr>\n",
       "      <th>3</th>\n",
       "      <td>ACPO,JuvP, Juv Prob (SFERS)</td>\n",
       "      <td>80266.370000</td>\n",
       "    </tr>\n",
       "    <tr>\n",
       "      <th>4</th>\n",
       "      <td>ACUPUNCTURIST</td>\n",
       "      <td>67594.400000</td>\n",
       "    </tr>\n",
       "  </tbody>\n",
       "</table>\n",
       "</div>"
      ],
      "text/plain": [
       "                      JobTitle  TotalPayBenefits\n",
       "0                ACCOUNT CLERK      44035.664337\n",
       "1                   ACCOUNTANT      47429.268000\n",
       "2            ACCOUNTANT INTERN      29031.742917\n",
       "3  ACPO,JuvP, Juv Prob (SFERS)      80266.370000\n",
       "4                ACUPUNCTURIST      67594.400000"
      ]
     },
     "execution_count": 7,
     "metadata": {},
     "output_type": "execute_result"
    }
   ],
   "source": [
    "#group the salaries dataframe by each job title and calculate the mean for that job title\n",
    "SalaryMean = df_main.groupby(by=[\"JobTitle\"], as_index=False)[\"TotalPayBenefits\"].mean()\n",
    "SalaryMean.head()"
   ]
  },
  {
   "cell_type": "code",
   "execution_count": 8,
   "metadata": {},
   "outputs": [
    {
     "data": {
      "text/html": [
       "<div>\n",
       "<style scoped>\n",
       "    .dataframe tbody tr th:only-of-type {\n",
       "        vertical-align: middle;\n",
       "    }\n",
       "\n",
       "    .dataframe tbody tr th {\n",
       "        vertical-align: top;\n",
       "    }\n",
       "\n",
       "    .dataframe thead th {\n",
       "        text-align: right;\n",
       "    }\n",
       "</style>\n",
       "<table border=\"1\" class=\"dataframe\">\n",
       "  <thead>\n",
       "    <tr style=\"text-align: right;\">\n",
       "      <th></th>\n",
       "      <th>JobTitle</th>\n",
       "      <th>TotalPayBenefits</th>\n",
       "    </tr>\n",
       "  </thead>\n",
       "  <tbody>\n",
       "    <tr>\n",
       "      <th>0</th>\n",
       "      <td>Chief Investment Officer</td>\n",
       "      <td>436224.360000</td>\n",
       "    </tr>\n",
       "    <tr>\n",
       "      <th>1</th>\n",
       "      <td>Chief of Police</td>\n",
       "      <td>411732.266667</td>\n",
       "    </tr>\n",
       "    <tr>\n",
       "      <th>2</th>\n",
       "      <td>Chief, Fire Department</td>\n",
       "      <td>408865.326667</td>\n",
       "    </tr>\n",
       "    <tr>\n",
       "      <th>3</th>\n",
       "      <td>GENERAL MANAGER-METROPOLITAN TRANSIT AUTHORITY</td>\n",
       "      <td>399211.275000</td>\n",
       "    </tr>\n",
       "    <tr>\n",
       "      <th>4</th>\n",
       "      <td>Gen Mgr, Public Trnsp Dept</td>\n",
       "      <td>380696.440000</td>\n",
       "    </tr>\n",
       "  </tbody>\n",
       "</table>\n",
       "</div>"
      ],
      "text/plain": [
       "                                         JobTitle  TotalPayBenefits\n",
       "0                        Chief Investment Officer     436224.360000\n",
       "1                                 Chief of Police     411732.266667\n",
       "2                          Chief, Fire Department     408865.326667\n",
       "3  GENERAL MANAGER-METROPOLITAN TRANSIT AUTHORITY     399211.275000\n",
       "4                      Gen Mgr, Public Trnsp Dept     380696.440000"
      ]
     },
     "execution_count": 8,
     "metadata": {},
     "output_type": "execute_result"
    }
   ],
   "source": [
    "#sort the above table by the mean salary for each job title \n",
    "SalaryMean.sort_values(by=['TotalPayBenefits'], inplace=True, ascending=False)\n",
    "SalaryMean = SalaryMean.reset_index(drop=True)\n",
    "SalaryMean.head()"
   ]
  },
  {
   "cell_type": "code",
   "execution_count": 9,
   "metadata": {},
   "outputs": [
    {
     "name": "stdout",
     "output_type": "stream",
     "text": [
      "The job title with the highest mean salary in the years 2011 through 2014 is:  Chief Investment Officer\n"
     ]
    }
   ],
   "source": [
    "#the first item -job title- has the highest mean salary\n",
    "HighestSalary = SalaryMean.at[0,'JobTitle']\n",
    "print('The job title with the highest mean salary in the years 2011 through 2014 is: ', HighestSalary)"
   ]
  },
  {
   "cell_type": "markdown",
   "metadata": {},
   "source": [
    "<h3>3- How much money could have been saved in the year 2014 by stopping overtime pay?</h3>\n",
    "\n",
    "As in question 1, a total summation of salaries for each year will be created. However, another summation of Overtime Pay will also be added in a separate column to be later on subtracted from the total salaries and therefore calculate the ammount that would have been payed in each year if overtime pay was stopped.\n",
    "\n",
    "Furthermore, the ammount of money that could have been saved in 2014 due to stopping overtime pay, is equal to the summation of overtime pay to all employees in that year."
   ]
  },
  {
   "cell_type": "code",
   "execution_count": 10,
   "metadata": {},
   "outputs": [
    {
     "data": {
      "text/html": [
       "<div>\n",
       "<style scoped>\n",
       "    .dataframe tbody tr th:only-of-type {\n",
       "        vertical-align: middle;\n",
       "    }\n",
       "\n",
       "    .dataframe tbody tr th {\n",
       "        vertical-align: top;\n",
       "    }\n",
       "\n",
       "    .dataframe thead th {\n",
       "        text-align: right;\n",
       "    }\n",
       "</style>\n",
       "<table border=\"1\" class=\"dataframe\">\n",
       "  <thead>\n",
       "    <tr style=\"text-align: right;\">\n",
       "      <th></th>\n",
       "      <th>Year</th>\n",
       "      <th>TotalPayBenefits</th>\n",
       "      <th>OvertimePay</th>\n",
       "      <th>TotalMinusOT</th>\n",
       "    </tr>\n",
       "  </thead>\n",
       "  <tbody>\n",
       "    <tr>\n",
       "      <th>0</th>\n",
       "      <td>2011</td>\n",
       "      <td>2.594113e+09</td>\n",
       "      <td>1.638191e+08</td>\n",
       "      <td>2.430294e+09</td>\n",
       "    </tr>\n",
       "    <tr>\n",
       "      <th>1</th>\n",
       "      <td>2012</td>\n",
       "      <td>3.696790e+09</td>\n",
       "      <td>1.846650e+08</td>\n",
       "      <td>3.512125e+09</td>\n",
       "    </tr>\n",
       "    <tr>\n",
       "      <th>2</th>\n",
       "      <td>2013</td>\n",
       "      <td>3.814772e+09</td>\n",
       "      <td>1.986214e+08</td>\n",
       "      <td>3.616151e+09</td>\n",
       "    </tr>\n",
       "    <tr>\n",
       "      <th>3</th>\n",
       "      <td>2014</td>\n",
       "      <td>3.821866e+09</td>\n",
       "      <td>2.059186e+08</td>\n",
       "      <td>3.615947e+09</td>\n",
       "    </tr>\n",
       "  </tbody>\n",
       "</table>\n",
       "</div>"
      ],
      "text/plain": [
       "   Year  TotalPayBenefits   OvertimePay  TotalMinusOT\n",
       "0  2011      2.594113e+09  1.638191e+08  2.430294e+09\n",
       "1  2012      3.696790e+09  1.846650e+08  3.512125e+09\n",
       "2  2013      3.814772e+09  1.986214e+08  3.616151e+09\n",
       "3  2014      3.821866e+09  2.059186e+08  3.615947e+09"
      ]
     },
     "execution_count": 10,
     "metadata": {},
     "output_type": "execute_result"
    }
   ],
   "source": [
    "#create a dataframe with 4 columns: Year,TotalSalaries,TotalOvertime,difference between TotalSalaries and TotalOvertime\n",
    "Total_OT_ByYear = df_main.groupby(by=[\"Year\"], as_index=False)[\"TotalPayBenefits\",\"OvertimePay\"].sum()\n",
    "Total_OT_ByYear['TotalMinusOT'] = Total_OT_ByYear['TotalPayBenefits'] - Total_OT_ByYear['OvertimePay']\n",
    "Total_OT_ByYear"
   ]
  },
  {
   "cell_type": "code",
   "execution_count": 11,
   "metadata": {},
   "outputs": [
    {
     "name": "stdout",
     "output_type": "stream",
     "text": [
      "205918599.27000067 could have been saved in the year 2014 by stopping overtime pay\n"
     ]
    }
   ],
   "source": [
    "#calculate total overtime in 2014, to see how much could have been saved in that year by stopping overtime \n",
    "OT_2014 = Total_OT_ByYear.at[3,'OvertimePay']\n",
    "print(OT_2014, 'could have been saved in the year 2014 by stopping overtime pay')"
   ]
  },
  {
   "cell_type": "markdown",
   "metadata": {},
   "source": [
    "<h3>4- Who were the top earning employees across all the years?</h3>\n",
    "\n",
    "To see who the top earning employees were, we group our dataframe by employee and add all their earnings across the years for comparison. After that, the names are sorted in a descending order and take the top five records to plot them and compare. \n",
    "\n",
    "However, the names in the dataframe are not unified. Therefore, we begin by unfying names to facilitate the analysis."
   ]
  },
  {
   "cell_type": "code",
   "execution_count": 12,
   "metadata": {},
   "outputs": [],
   "source": [
    "#unify the way names are written in the dataframe by capitalizing each word and removing spaces\n",
    "df_main['EmployeeName'] = df_main['EmployeeName'].str.title()\n",
    "df_main['EmployeeName'] = df_main['EmployeeName'].str.replace(' ', '')"
   ]
  },
  {
   "cell_type": "code",
   "execution_count": 13,
   "metadata": {},
   "outputs": [
    {
     "data": {
      "text/html": [
       "<div>\n",
       "<style scoped>\n",
       "    .dataframe tbody tr th:only-of-type {\n",
       "        vertical-align: middle;\n",
       "    }\n",
       "\n",
       "    .dataframe tbody tr th {\n",
       "        vertical-align: top;\n",
       "    }\n",
       "\n",
       "    .dataframe thead th {\n",
       "        text-align: right;\n",
       "    }\n",
       "</style>\n",
       "<table border=\"1\" class=\"dataframe\">\n",
       "  <thead>\n",
       "    <tr style=\"text-align: right;\">\n",
       "      <th></th>\n",
       "      <th>EmployeeName</th>\n",
       "      <th>TotalPayBenefits</th>\n",
       "    </tr>\n",
       "  </thead>\n",
       "  <tbody>\n",
       "    <tr>\n",
       "      <th>0</th>\n",
       "      <td>A.JamesRobertsonIi</td>\n",
       "      <td>64787.42</td>\n",
       "    </tr>\n",
       "    <tr>\n",
       "      <th>1</th>\n",
       "      <td>A.K.Finizio</td>\n",
       "      <td>13901.57</td>\n",
       "    </tr>\n",
       "    <tr>\n",
       "      <th>2</th>\n",
       "      <td>ABernardFatooh</td>\n",
       "      <td>103087.03</td>\n",
       "    </tr>\n",
       "    <tr>\n",
       "      <th>3</th>\n",
       "      <td>AElizabethMarchasin</td>\n",
       "      <td>26282.86</td>\n",
       "    </tr>\n",
       "    <tr>\n",
       "      <th>4</th>\n",
       "      <td>AJamilNiazi</td>\n",
       "      <td>87496.21</td>\n",
       "    </tr>\n",
       "  </tbody>\n",
       "</table>\n",
       "</div>"
      ],
      "text/plain": [
       "          EmployeeName  TotalPayBenefits\n",
       "0   A.JamesRobertsonIi          64787.42\n",
       "1          A.K.Finizio          13901.57\n",
       "2       ABernardFatooh         103087.03\n",
       "3  AElizabethMarchasin          26282.86\n",
       "4          AJamilNiazi          87496.21"
      ]
     },
     "execution_count": 13,
     "metadata": {},
     "output_type": "execute_result"
    }
   ],
   "source": [
    "#group the data by each employee and sum their earnings\n",
    "TotalEmployeeEarning = df_main.groupby(by=[\"EmployeeName\"], as_index=False)[\"TotalPayBenefits\"].sum()\n",
    "TotalEmployeeEarning.head()"
   ]
  },
  {
   "cell_type": "code",
   "execution_count": 14,
   "metadata": {},
   "outputs": [
    {
     "name": "stdout",
     "output_type": "stream",
     "text": [
      "The Top Earning Employees Between 2011 and 2014 are: \n"
     ]
    },
    {
     "data": {
      "text/html": [
       "<div>\n",
       "<style scoped>\n",
       "    .dataframe tbody tr th:only-of-type {\n",
       "        vertical-align: middle;\n",
       "    }\n",
       "\n",
       "    .dataframe tbody tr th {\n",
       "        vertical-align: top;\n",
       "    }\n",
       "\n",
       "    .dataframe thead th {\n",
       "        text-align: right;\n",
       "    }\n",
       "</style>\n",
       "<table border=\"1\" class=\"dataframe\">\n",
       "  <thead>\n",
       "    <tr style=\"text-align: right;\">\n",
       "      <th></th>\n",
       "      <th>EmployeeName</th>\n",
       "      <th>TotalPayBenefits</th>\n",
       "    </tr>\n",
       "  </thead>\n",
       "  <tbody>\n",
       "    <tr>\n",
       "      <th>0</th>\n",
       "      <td>KevinLee</td>\n",
       "      <td>3266005.97</td>\n",
       "    </tr>\n",
       "    <tr>\n",
       "      <th>1</th>\n",
       "      <td>StevenLee</td>\n",
       "      <td>3113351.96</td>\n",
       "    </tr>\n",
       "    <tr>\n",
       "      <th>2</th>\n",
       "      <td>WilliamWong</td>\n",
       "      <td>2713136.27</td>\n",
       "    </tr>\n",
       "    <tr>\n",
       "      <th>3</th>\n",
       "      <td>StanleyLee</td>\n",
       "      <td>2520247.63</td>\n",
       "    </tr>\n",
       "    <tr>\n",
       "      <th>4</th>\n",
       "      <td>RichardLee</td>\n",
       "      <td>2285723.38</td>\n",
       "    </tr>\n",
       "  </tbody>\n",
       "</table>\n",
       "</div>"
      ],
      "text/plain": [
       "  EmployeeName  TotalPayBenefits\n",
       "0     KevinLee        3266005.97\n",
       "1    StevenLee        3113351.96\n",
       "2  WilliamWong        2713136.27\n",
       "3   StanleyLee        2520247.63\n",
       "4   RichardLee        2285723.38"
      ]
     },
     "execution_count": 14,
     "metadata": {},
     "output_type": "execute_result"
    }
   ],
   "source": [
    "#sort employees by their earnings and show the top 5\n",
    "TotalEmployeeEarning.sort_values(by=['TotalPayBenefits'], inplace=True, ascending=False)\n",
    "TotalEmployeeEarning = TotalEmployeeEarning.reset_index(drop=True)\n",
    "TopEarningEmp = TotalEmployeeEarning.head()\n",
    "\n",
    "print('The Top Earning Employees Between 2011 and 2014 are: ')\n",
    "TopEarningEmp"
   ]
  },
  {
   "cell_type": "code",
   "execution_count": 15,
   "metadata": {},
   "outputs": [
    {
     "data": {
      "image/png": "[encoded data removed]",
      "text/plain": [
       "<Figure size 432x288 with 1 Axes>"
      ]
     },
     "metadata": {
      "needs_background": "light"
     },
     "output_type": "display_data"
    }
   ],
   "source": [
    "#plot the top 5 earning employees to compare their earnings over the years\n",
    "TopEarningEmp.plot(kind='barh',x='EmployeeName', y='TotalPayBenefits')\n",
    "\n",
    "plt.title('Top Earning Employees 2011 to 2014')\n",
    "plt.xlabel('Total Earnings')\n",
    "plt.ylabel('Employee Name')\n",
    "plt.legend().set_visible(False)\n",
    "\n",
    "plt.show()"
   ]
  },
  {
   "cell_type": "markdown",
   "metadata": {},
   "source": [
    "<h3>5- Which were the least 5 common job in 2014, and how much did they cost?</h3>\n",
    "\n",
    "Since 2014 is the year of interest in this question, records of that year are stored in a separate dataframe. The frequency of occurrence for each job title is then calculated to find the least five common jobs. After that, we sum up their salaries to learn how much they cost."
   ]
  },
  {
   "cell_type": "code",
   "execution_count": 16,
   "metadata": {},
   "outputs": [
    {
     "data": {
      "text/html": [
       "<div>\n",
       "<style scoped>\n",
       "    .dataframe tbody tr th:only-of-type {\n",
       "        vertical-align: middle;\n",
       "    }\n",
       "\n",
       "    .dataframe tbody tr th {\n",
       "        vertical-align: top;\n",
       "    }\n",
       "\n",
       "    .dataframe thead th {\n",
       "        text-align: right;\n",
       "    }\n",
       "</style>\n",
       "<table border=\"1\" class=\"dataframe\">\n",
       "  <thead>\n",
       "    <tr style=\"text-align: right;\">\n",
       "      <th></th>\n",
       "      <th>Id</th>\n",
       "      <th>EmployeeName</th>\n",
       "      <th>JobTitle</th>\n",
       "      <th>BasePay</th>\n",
       "      <th>OvertimePay</th>\n",
       "      <th>OtherPay</th>\n",
       "      <th>Benefits</th>\n",
       "      <th>TotalPay</th>\n",
       "      <th>TotalPayBenefits</th>\n",
       "      <th>Year</th>\n",
       "      <th>Notes</th>\n",
       "      <th>Agency</th>\n",
       "      <th>Status</th>\n",
       "    </tr>\n",
       "  </thead>\n",
       "  <tbody>\n",
       "    <tr>\n",
       "      <th>110529</th>\n",
       "      <td>110532</td>\n",
       "      <td>DavidShinn</td>\n",
       "      <td>Deputy Chief 3</td>\n",
       "      <td>129150.01</td>\n",
       "      <td>0.00</td>\n",
       "      <td>342802.63</td>\n",
       "      <td>38780.04</td>\n",
       "      <td>471952.64</td>\n",
       "      <td>510732.68</td>\n",
       "      <td>2014</td>\n",
       "      <td>NaN</td>\n",
       "      <td>San Francisco</td>\n",
       "      <td>PT</td>\n",
       "    </tr>\n",
       "    <tr>\n",
       "      <th>110530</th>\n",
       "      <td>110533</td>\n",
       "      <td>AmyPHart</td>\n",
       "      <td>Asst Med Examiner</td>\n",
       "      <td>318835.49</td>\n",
       "      <td>10712.95</td>\n",
       "      <td>60563.54</td>\n",
       "      <td>89540.23</td>\n",
       "      <td>390111.98</td>\n",
       "      <td>479652.21</td>\n",
       "      <td>2014</td>\n",
       "      <td>NaN</td>\n",
       "      <td>San Francisco</td>\n",
       "      <td>FT</td>\n",
       "    </tr>\n",
       "    <tr>\n",
       "      <th>110531</th>\n",
       "      <td>110534</td>\n",
       "      <td>WilliamJCoakerJr.</td>\n",
       "      <td>Chief Investment Officer</td>\n",
       "      <td>257340.00</td>\n",
       "      <td>0.00</td>\n",
       "      <td>82313.70</td>\n",
       "      <td>96570.66</td>\n",
       "      <td>339653.70</td>\n",
       "      <td>436224.36</td>\n",
       "      <td>2014</td>\n",
       "      <td>NaN</td>\n",
       "      <td>San Francisco</td>\n",
       "      <td>PT</td>\n",
       "    </tr>\n",
       "    <tr>\n",
       "      <th>110532</th>\n",
       "      <td>110535</td>\n",
       "      <td>GregoryPSuhr</td>\n",
       "      <td>Chief of Police</td>\n",
       "      <td>307450.04</td>\n",
       "      <td>0.00</td>\n",
       "      <td>19266.72</td>\n",
       "      <td>91302.46</td>\n",
       "      <td>326716.76</td>\n",
       "      <td>418019.22</td>\n",
       "      <td>2014</td>\n",
       "      <td>NaN</td>\n",
       "      <td>San Francisco</td>\n",
       "      <td>FT</td>\n",
       "    </tr>\n",
       "    <tr>\n",
       "      <th>110533</th>\n",
       "      <td>110536</td>\n",
       "      <td>JoanneMHayes-White</td>\n",
       "      <td>Chief, Fire Department</td>\n",
       "      <td>302068.00</td>\n",
       "      <td>0.00</td>\n",
       "      <td>24165.44</td>\n",
       "      <td>91201.66</td>\n",
       "      <td>326233.44</td>\n",
       "      <td>417435.10</td>\n",
       "      <td>2014</td>\n",
       "      <td>NaN</td>\n",
       "      <td>San Francisco</td>\n",
       "      <td>FT</td>\n",
       "    </tr>\n",
       "  </tbody>\n",
       "</table>\n",
       "</div>"
      ],
      "text/plain": [
       "            Id        EmployeeName                  JobTitle    BasePay  \\\n",
       "110529  110532          DavidShinn            Deputy Chief 3  129150.01   \n",
       "110530  110533            AmyPHart         Asst Med Examiner  318835.49   \n",
       "110531  110534   WilliamJCoakerJr.  Chief Investment Officer  257340.00   \n",
       "110532  110535        GregoryPSuhr           Chief of Police  307450.04   \n",
       "110533  110536  JoanneMHayes-White    Chief, Fire Department  302068.00   \n",
       "\n",
       "        OvertimePay   OtherPay  Benefits   TotalPay  TotalPayBenefits  Year  \\\n",
       "110529         0.00  342802.63  38780.04  471952.64         510732.68  2014   \n",
       "110530     10712.95   60563.54  89540.23  390111.98         479652.21  2014   \n",
       "110531         0.00   82313.70  96570.66  339653.70         436224.36  2014   \n",
       "110532         0.00   19266.72  91302.46  326716.76         418019.22  2014   \n",
       "110533         0.00   24165.44  91201.66  326233.44         417435.10  2014   \n",
       "\n",
       "        Notes         Agency Status  \n",
       "110529    NaN  San Francisco     PT  \n",
       "110530    NaN  San Francisco     FT  \n",
       "110531    NaN  San Francisco     PT  \n",
       "110532    NaN  San Francisco     FT  \n",
       "110533    NaN  San Francisco     FT  "
      ]
     },
     "execution_count": 16,
     "metadata": {},
     "output_type": "execute_result"
    }
   ],
   "source": [
    "#create a sub-dataframe of 2014 records only\n",
    "df_2014 = df_main.loc[df_main['Year'] == 2014]\n",
    "df_2014.head()"
   ]
  },
  {
   "cell_type": "code",
   "execution_count": 17,
   "metadata": {},
   "outputs": [
    {
     "name": "stderr",
     "output_type": "stream",
     "text": [
      "C:\\Users\\GTS\\Anaconda\\lib\\site-packages\\ipykernel_launcher.py:2: SettingWithCopyWarning: \n",
      "A value is trying to be set on a copy of a slice from a DataFrame.\n",
      "Try using .loc[row_indexer,col_indexer] = value instead\n",
      "\n",
      "See the caveats in the documentation: http://pandas.pydata.org/pandas-docs/stable/indexing.html#indexing-view-versus-copy\n",
      "  \n",
      "C:\\Users\\GTS\\Anaconda\\lib\\site-packages\\ipykernel_launcher.py:4: SettingWithCopyWarning: \n",
      "A value is trying to be set on a copy of a slice from a DataFrame\n",
      "\n",
      "See the caveats in the documentation: http://pandas.pydata.org/pandas-docs/stable/indexing.html#indexing-view-versus-copy\n",
      "  after removing the cwd from sys.path.\n"
     ]
    }
   ],
   "source": [
    "#add a column 'frequency' to store the number of employees for each job title\n",
    "df_2014['frequency'] = df_2014['JobTitle'].map(df_2014['JobTitle'].value_counts())\n",
    "#sort the data by frequency having the least common jobs on top\n",
    "df_2014.sort_values(by=['frequency'], inplace=True)\n",
    "df_2014 = df_2014.reset_index(drop=True)\n",
    "#store the least 5 common jobs in 'Least_5_common_jobs'\n",
    "Least_5_common_jobs = df_2014[['JobTitle','TotalPayBenefits']].head()"
   ]
  },
  {
   "cell_type": "code",
   "execution_count": 18,
   "metadata": {},
   "outputs": [
    {
     "name": "stdout",
     "output_type": "stream",
     "text": [
      "The least 5 Common Jobs in 2014 were  ['Telecommunications Tech Supv', 'Sctry, Juv Probation Comm', 'Materials/Supplies Supervisor', 'Director, Juvenile Hall', 'Shade and Drapery Worker']  each being held by one employee, \n",
      "and cost  589165.9400000001 in total\n"
     ]
    }
   ],
   "source": [
    "#store the least 5 common jobs in a list\n",
    "JobsList = Least_5_common_jobs['JobTitle'].tolist()\n",
    "#calculate the total salaries payed for these jobs\n",
    "JobsCost = Least_5_common_jobs['TotalPayBenefits'].sum()\n",
    "#show results\n",
    "print('The least 5 Common Jobs in 2014 were ',JobsList, ' each being held by one employee, ')\n",
    "print('and cost ', JobsCost, 'in total')"
   ]
  },
  {
   "cell_type": "markdown",
   "metadata": {},
   "source": [
    "<h3>6- What percentage did overtime pay constitute of the total pay?</h3>\n",
    "\n",
    "Here we calculate the summation of salaries and that of overtime pay for all employees across the years. Then the required percentage is calculated."
   ]
  },
  {
   "cell_type": "code",
   "execution_count": 19,
   "metadata": {},
   "outputs": [
    {
     "name": "stdout",
     "output_type": "stream",
     "text": [
      "The percentage of Over Time Pay to Total Pay across the years was 6.8%\n"
     ]
    }
   ],
   "source": [
    "#calculate Total Overtime and Total Pay\n",
    "OT_Pay = df_main['OvertimePay'].sum()\n",
    "Tot_Pay = df_main['TotalPay'].sum()\n",
    "#calculate and show the percentage\n",
    "print('The percentage of Over Time Pay to Total Pay across the years was','{:.1%}'.format(OT_Pay/Tot_Pay))"
   ]
  }
 ],
 "metadata": {
  "kernelspec": {
   "display_name": "Python 3",
   "language": "python",
   "name": "python3"
  },
  "language_info": {
   "codemirror_mode": {
    "name": "ipython",
    "version": 3
   },
   "file_extension": ".py",
   "mimetype": "text/x-python",
   "name": "python",
   "nbconvert_exporter": "python",
   "pygments_lexer": "ipython3",
   "version": "3.7.3"
  }
 },
 "nbformat": 4,
 "nbformat_minor": 4
}
