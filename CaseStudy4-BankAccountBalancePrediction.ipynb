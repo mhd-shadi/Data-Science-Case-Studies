{
 "cells": [
  {
   "cell_type": "markdown",
   "metadata": {},
   "source": [
    "<h1>Case Study 4 - Bank Account Balance Prediction</h1>"
   ]
  },
  {
   "cell_type": "markdown",
   "metadata": {},
   "source": [
    "<h2>Problem Background</h2>"
   ]
  },
  {
   "cell_type": "markdown",
   "metadata": {},
   "source": [
    "A small sample taken from a bank's customers is given by the data file Banking_Data_Set.csv. The ultimate goal is to come up with a prediction model which provides the Account Balance given 5 predictors.\n",
    "\n",
    "**Requirments**\n",
    "\n",
    "* A competitor claims that their average account balance is 1325 USD. With a 5% significance level, do you think that the current account balance of this bank is significantly higher than that of the competitor? State your hypotheses and the type of analysis (e.g., one-tailed or two-tailed test). Compute the p-value and make your decision. Report the effect size as well and interpret the output.\n",
    "* Do you think there exists a statistically significant difference for account balance between those customers who have a Debit card and those who don't? Clearly state your hypotheses and make your decision assuming a significance level of 5%.\n",
    "* Submit your best regression model for a prediction of the Account Balance. Which predictors do you think are important in the prediction of the target variable? Explain via plots and show that you conducted a thorough analysis for the problem. Considering the final regression model you report, show that this model isn't violating any of the basic assumptions used in building a linear multiple regression model.\n",
    "* Do you have any outliers that you think are influential in the regression model?\n",
    " \n",
    "**Data**\n",
    "\n",
    "|Attribute| Values|\n",
    "|-------|--------|\n",
    "|Balance|Account Balance in dollars|\n",
    "|ATM|Number of monthly ATM transactions|\n",
    "|Services|Number of other bank services used|\n",
    "|Debit|Has a debit card (yes/no)|\n",
    "|Interest|Receives interest on the account (yes/no)|\n",
    "|City|City where banking is done|"
   ]
  },
  {
   "cell_type": "markdown",
   "metadata": {},
   "source": [
    "<h2>Data Preparation</h2>"
   ]
  },
  {
   "cell_type": "code",
   "execution_count": 1,
   "metadata": {},
   "outputs": [],
   "source": [
    "#import needed libraries for analysis\n",
    "import pandas as pd\n",
    "import numpy as np"
   ]
  },
  {
   "cell_type": "code",
   "execution_count": 2,
   "metadata": {},
   "outputs": [
    {
     "data": {
      "text/html": [
       "<div>\n",
       "<style scoped>\n",
       "    .dataframe tbody tr th:only-of-type {\n",
       "        vertical-align: middle;\n",
       "    }\n",
       "\n",
       "    .dataframe tbody tr th {\n",
       "        vertical-align: top;\n",
       "    }\n",
       "\n",
       "    .dataframe thead th {\n",
       "        text-align: right;\n",
       "    }\n",
       "</style>\n",
       "<table border=\"1\" class=\"dataframe\">\n",
       "  <thead>\n",
       "    <tr style=\"text-align: right;\">\n",
       "      <th></th>\n",
       "      <th>Balance</th>\n",
       "      <th>ATM</th>\n",
       "      <th>Services</th>\n",
       "      <th>City</th>\n",
       "      <th>Debit</th>\n",
       "      <th>Interest</th>\n",
       "    </tr>\n",
       "  </thead>\n",
       "  <tbody>\n",
       "    <tr>\n",
       "      <th>0</th>\n",
       "      <td>1756</td>\n",
       "      <td>13</td>\n",
       "      <td>4</td>\n",
       "      <td>2</td>\n",
       "      <td>no</td>\n",
       "      <td>yes</td>\n",
       "    </tr>\n",
       "    <tr>\n",
       "      <th>1</th>\n",
       "      <td>748</td>\n",
       "      <td>9</td>\n",
       "      <td>2</td>\n",
       "      <td>1</td>\n",
       "      <td>yes</td>\n",
       "      <td>no</td>\n",
       "    </tr>\n",
       "    <tr>\n",
       "      <th>2</th>\n",
       "      <td>1501</td>\n",
       "      <td>10</td>\n",
       "      <td>1</td>\n",
       "      <td>1</td>\n",
       "      <td>no</td>\n",
       "      <td>no</td>\n",
       "    </tr>\n",
       "    <tr>\n",
       "      <th>3</th>\n",
       "      <td>1831</td>\n",
       "      <td>10</td>\n",
       "      <td>4</td>\n",
       "      <td>3</td>\n",
       "      <td>no</td>\n",
       "      <td>yes</td>\n",
       "    </tr>\n",
       "    <tr>\n",
       "      <th>4</th>\n",
       "      <td>1622</td>\n",
       "      <td>14</td>\n",
       "      <td>6</td>\n",
       "      <td>4</td>\n",
       "      <td>no</td>\n",
       "      <td>yes</td>\n",
       "    </tr>\n",
       "  </tbody>\n",
       "</table>\n",
       "</div>"
      ],
      "text/plain": [
       "   Balance  ATM  Services  City Debit Interest\n",
       "0     1756   13         4     2    no      yes\n",
       "1      748    9         2     1   yes       no\n",
       "2     1501   10         1     1    no       no\n",
       "3     1831   10         4     3    no      yes\n",
       "4     1622   14         6     4    no      yes"
      ]
     },
     "execution_count": 2,
     "metadata": {},
     "output_type": "execute_result"
    }
   ],
   "source": [
    "#read data to a pandas dataframe\n",
    "df = pd.read_csv('Banking_Data_Set.csv')\n",
    "df.head()"
   ]
  },
  {
   "cell_type": "markdown",
   "metadata": {},
   "source": [
    "<h2>One-Sample T-test</h2>"
   ]
  },
  {
   "cell_type": "markdown",
   "metadata": {},
   "source": [
    "To answer the first question and see if the current account balance is significantly higher than the competitor's, we will run a One-sample T-test, as it tests weather the mean of a population is different from a specified value.\n",
    "\n",
    "The One-sample T-test can be One-tailed or Two-tailed based on the hypothesis. Since we are trying to see if the account balance is larger than the given value, then a One-tailed test with the following Null and Alternative Hypothesis will be suitable. "
   ]
  },
  {
   "cell_type": "markdown",
   "metadata": {},
   "source": [
    "**Hypothesis:**\n",
    "\n",
    "* Null Hypothesis (H_0): The mean account balance is equal to 1325 USD (competitor average account balance)\n",
    "* Alternative Hypothesis (H_a): The mean account balance is greater than 1325 USD"
   ]
  },
  {
   "cell_type": "code",
   "execution_count": 3,
   "metadata": {},
   "outputs": [
    {
     "name": "stdout",
     "output_type": "stream",
     "text": [
      "P-value = 0.013462805769481744\n",
      "Null hypothesis is rejected in favor of the alternative; mean is significantly greater than $1325\n"
     ]
    }
   ],
   "source": [
    "#import library needed for the test\n",
    "from scipy.stats import ttest_1samp\n",
    "\n",
    "#mean account balance of competitor\n",
    "m = 1325\n",
    "#significance level\n",
    "alpha = 0.05\n",
    "\n",
    "#run the test\n",
    "results = ttest_1samp(df['Balance'], m)\n",
    "\n",
    "#half the p-value for one-tailed test\n",
    "print('P-value =', results[1]/2)\n",
    "\n",
    "#check (p-value/2) to be lower than alpha \n",
    "#and sign of t-statistic to be positive ==> the sample mean is larger than m\n",
    "if (results[1]/2 > alpha):\n",
    "    print(\"Null hypothesis is accepted\")\n",
    "elif (results[0] > 0) & (results[1]/2 < alpha):\n",
    "    print(\"Null hypothesis is rejected in favor of the alternative; mean is significantly greater than ${}\".format(m))"
   ]
  },
  {
   "cell_type": "markdown",
   "metadata": {},
   "source": [
    "**Effect Size and Interpretation**\n",
    "\n",
    "In order to quantify the magnitude of the difference, Cohen's d will be calculated. Cohen's d is defined as the difference between two means divided by a standard deviation for the data\n",
    "\n",
    "| Effect Size        | D       |\n",
    "|--------------------|---------|\n",
    "| Very small         | 0.01    |\n",
    "| Small              | 0.20    |\n",
    "| Medium             | 0.50    |\n",
    "| Large              | 0.80    |\n",
    "| Very large         | 1.20    |"
   ]
  },
  {
   "cell_type": "code",
   "execution_count": 4,
   "metadata": {},
   "outputs": [
    {
     "name": "stdout",
     "output_type": "stream",
     "text": [
      "A Cohens-d value of  0.292955650522619  suggests a  Small effect size\n"
     ]
    }
   ],
   "source": [
    "#calculate sample mean and StD\n",
    "sample_mean = df['Balance'].mean()\n",
    "sample_standard_deviation = df['Balance'].std()\n",
    "\n",
    "#calculate cohen's d\n",
    "cohens_d = (sample_mean - m)/sample_standard_deviation\n",
    "\n",
    "#function to output the effect size based on value of cohen's d\n",
    "def effect_size_calculation(cohens_d):\n",
    "    \n",
    "    if 0<=cohens_d<0.1:\n",
    "        effect_size = \"Very Small\"\n",
    "    elif 0.1<=cohens_d<0.35:\n",
    "        effect_size = \"Small\"\n",
    "    elif 0.35<=cohens_d<0.65:\n",
    "        effect_size = \"Medium\"\n",
    "    elif 0.65<=cohens_d<0.9:\n",
    "        effect_size = \"Large\"\n",
    "    elif cohens_d >= 0.9:\n",
    "        effect_size = \"Very Large\"\n",
    "    return effect_size\n",
    "\n",
    "#call function to get the effect size\n",
    "effect_size = effect_size_calculation(cohens_d)\n",
    "\n",
    "#show results\n",
    "print('A Cohens-d value of ', cohens_d, ' suggests a ', effect_size, 'effect size')"
   ]
  },
  {
   "cell_type": "markdown",
   "metadata": {},
   "source": [
    "It can be understood that, although there is a significant diffenance between the means of account balances of the two banks, this differance is small."
   ]
  },
  {
   "cell_type": "markdown",
   "metadata": {},
   "source": [
    "<h2>ANOVA Test</h2>"
   ]
  },
  {
   "cell_type": "markdown",
   "metadata": {},
   "source": [
    "The second requrment is to answer if there is a statistically significant difference for account balance between those customers who have a Debit card and those who don't. Therefore, we will use the Analysis of Variance (ANOVA).\n",
    "\n",
    "The Analysis of Variance (ANOVA) is a statistical method used to test whether there are significant differences between the means of two or more groups and returns an F-score and P-value."
   ]
  },
  {
   "cell_type": "code",
   "execution_count": 5,
   "metadata": {},
   "outputs": [
    {
     "data": {
      "text/html": [
       "<div>\n",
       "<style scoped>\n",
       "    .dataframe tbody tr th:only-of-type {\n",
       "        vertical-align: middle;\n",
       "    }\n",
       "\n",
       "    .dataframe tbody tr th {\n",
       "        vertical-align: top;\n",
       "    }\n",
       "\n",
       "    .dataframe thead th {\n",
       "        text-align: right;\n",
       "    }\n",
       "</style>\n",
       "<table border=\"1\" class=\"dataframe\">\n",
       "  <thead>\n",
       "    <tr style=\"text-align: right;\">\n",
       "      <th></th>\n",
       "      <th>Balance</th>\n",
       "    </tr>\n",
       "    <tr>\n",
       "      <th>Debit</th>\n",
       "      <th></th>\n",
       "    </tr>\n",
       "  </thead>\n",
       "  <tbody>\n",
       "    <tr>\n",
       "      <th>no</th>\n",
       "      <td>1435.823529</td>\n",
       "    </tr>\n",
       "    <tr>\n",
       "      <th>yes</th>\n",
       "      <td>1583.615385</td>\n",
       "    </tr>\n",
       "  </tbody>\n",
       "</table>\n",
       "</div>"
      ],
      "text/plain": [
       "           Balance\n",
       "Debit             \n",
       "no     1435.823529\n",
       "yes    1583.615385"
      ]
     },
     "execution_count": 5,
     "metadata": {},
     "output_type": "execute_result"
    }
   ],
   "source": [
    "#group data by 'Debit' and calculate mean account balance for each group\n",
    "Debit_vs_Balance = df[['Debit', 'Balance']].groupby(['Debit']).mean()\n",
    "Debit_vs_Balance"
   ]
  },
  {
   "cell_type": "markdown",
   "metadata": {},
   "source": [
    "**ANOVA Test**\n",
    "\n",
    "For our test we will name two groups:\n",
    "* Group A: Customers who have a debit card\n",
    "* Group B: Customers who don't have a debit card\n",
    "\n",
    "**Hypothesis:**\n",
    "\n",
    "* Null Hypothesis (H_0): The means of account balance for the two groups are equal; M_a = M_b\n",
    "* Alternative Hypothesis (H_a): The means of account balance for the two groups are not equal; M_a != M_b"
   ]
  },
  {
   "cell_type": "code",
   "execution_count": 7,
   "metadata": {},
   "outputs": [
    {
     "name": "stdout",
     "output_type": "stream",
     "text": [
      "ANOVA results: F= 0.901711511352702 , P = 0.34626334317172347\n",
      "There is no statistically significant difference in account balance between the two groups\n"
     ]
    }
   ],
   "source": [
    "#import library needed for the test\n",
    "from scipy.stats import f_oneway\n",
    "\n",
    "#group data by the 'Debit' variable\n",
    "grouped_test = df[['Debit', 'Balance']].groupby(['Debit'])\n",
    "\n",
    "# ANOVA\n",
    "f_val, p_val = f_oneway(grouped_test.get_group('yes')['Balance'], grouped_test.get_group('no')['Balance'])  \n",
    "\n",
    "#print results of test\n",
    "print( \"ANOVA results: F=\", f_val, \", P =\", p_val)\n",
    "\n",
    "#check the P-value for significance; assuming alpha = 0.05\n",
    "if p_val < 0.05:\n",
    "    print('There is a statistically significant difference in account balance between the two groups')\n",
    "else:\n",
    "    print('There is no statistically significant difference in account balance between the two groups')"
   ]
  },
  {
   "cell_type": "markdown",
   "metadata": {},
   "source": [
    "<h2>Regression</h2>"
   ]
  },
  {
   "cell_type": "markdown",
   "metadata": {},
   "source": [
    "The next step in our analysis is to build a Machine Learning Regression Model that best fits the Balance data given the other features in the dataframe. "
   ]
  },
  {
   "cell_type": "markdown",
   "metadata": {},
   "source": [
    "<h3>Choosing Input Features</h3>"
   ]
  },
  {
   "cell_type": "markdown",
   "metadata": {},
   "source": [
    "We begin by choosing the input features to our model among the available Continuous and Categorical variables."
   ]
  },
  {
   "cell_type": "code",
   "execution_count": 9,
   "metadata": {},
   "outputs": [],
   "source": [
    "#import libraries needed for visual and quantifiable correlation analysis\n",
    "from scipy.stats import pearsonr\n",
    "import matplotlib.pyplot as plt\n",
    "import seaborn as sns\n",
    "%matplotlib inline"
   ]
  },
  {
   "cell_type": "markdown",
   "metadata": {},
   "source": [
    "<h4>Continuous Variables</h4>"
   ]
  },
  {
   "cell_type": "markdown",
   "metadata": {},
   "source": [
    "There are two continuous variables amon our features, ATM and Services. We will analyze their correlation to the target variable, Balance, using Regression Plots and Pearson Correlation."
   ]
  },
  {
   "cell_type": "markdown",
   "metadata": {},
   "source": [
    "**ATM VS Balance**"
   ]
  },
  {
   "cell_type": "code",
   "execution_count": 10,
   "metadata": {},
   "outputs": [
    {
     "data": {
      "text/plain": [
       "<matplotlib.axes._subplots.AxesSubplot at 0x110a8899160>"
      ]
     },
     "execution_count": 10,
     "metadata": {},
     "output_type": "execute_result"
    },
    {
     "data": {
      "image/png": "[encoded data removed]",
      "text/plain": [
       "<Figure size 432x288 with 1 Axes>"
      ]
     },
     "metadata": {
      "needs_background": "light"
     },
     "output_type": "display_data"
    }
   ],
   "source": [
    "#plot regression plot of ATM VS Balance\n",
    "sns.regplot(x='ATM',y='Balance',data=df)"
   ]
  },
  {
   "cell_type": "code",
   "execution_count": 12,
   "metadata": {},
   "outputs": [
    {
     "name": "stdout",
     "output_type": "stream",
     "text": [
      "The Pearson Correlation Coefficient is 0.7089000425414076\n"
     ]
    }
   ],
   "source": [
    "#calculate pearson correlation between ATM and Balance\n",
    "pearson_coef, p_value = pearsonr(df['ATM'], df['Balance'])\n",
    "print(\"The Pearson Correlation Coefficient is\", pearson_coef)"
   ]
  },
  {
   "cell_type": "markdown",
   "metadata": {},
   "source": [
    "**Servicecs VS Balance**"
   ]
  },
  {
   "cell_type": "code",
   "execution_count": 13,
   "metadata": {},
   "outputs": [
    {
     "data": {
      "text/plain": [
       "<matplotlib.axes._subplots.AxesSubplot at 0x110a9fcfef0>"
      ]
     },
     "execution_count": 13,
     "metadata": {},
     "output_type": "execute_result"
    },
    {
     "data": {
      "image/png": "[encoded data removed]",
      "text/plain": [
       "<Figure size 432x288 with 1 Axes>"
      ]
     },
     "metadata": {
      "needs_background": "light"
     },
     "output_type": "display_data"
    }
   ],
   "source": [
    "#plot regression plot of Services VS Balance\n",
    "sns.regplot(x='Services',y='Balance',data=df)"
   ]
  },
  {
   "cell_type": "code",
   "execution_count": 14,
   "metadata": {},
   "outputs": [
    {
     "name": "stdout",
     "output_type": "stream",
     "text": [
      "The Pearson Correlation Coefficient is 0.37388204952928433\n"
     ]
    }
   ],
   "source": [
    "#calculate pearson correlation between Services and Balance\n",
    "pearson_coef, p_value = pearsonr(df['Services'], df['Balance'])\n",
    "print(\"The Pearson Correlation Coefficient is\", pearson_coef)"
   ]
  },
  {
   "cell_type": "markdown",
   "metadata": {},
   "source": [
    "<h4>Categorical Variables</h4>"
   ]
  },
  {
   "cell_type": "markdown",
   "metadata": {},
   "source": [
    "We will visualize the three categorical variables in our features using boxplots. The three variables are City, Debit, and and Interest."
   ]
  },
  {
   "cell_type": "markdown",
   "metadata": {},
   "source": [
    "**City VS Balance**"
   ]
  },
  {
   "cell_type": "code",
   "execution_count": 16,
   "metadata": {},
   "outputs": [
    {
     "data": {
      "text/plain": [
       "<matplotlib.axes._subplots.AxesSubplot at 0x110aa0334a8>"
      ]
     },
     "execution_count": 16,
     "metadata": {},
     "output_type": "execute_result"
    },
    {
     "data": {
      "image/png": "[encoded data removed]",
      "text/plain": [
       "<Figure size 432x288 with 1 Axes>"
      ]
     },
     "metadata": {
      "needs_background": "light"
     },
     "output_type": "display_data"
    }
   ],
   "source": [
    "#plot boxplot of City VS Balance\n",
    "sns.boxplot(x='City',y='Balance',data=df)"
   ]
  },
  {
   "cell_type": "markdown",
   "metadata": {},
   "source": [
    "**Debit VS Balance**"
   ]
  },
  {
   "cell_type": "code",
   "execution_count": 17,
   "metadata": {},
   "outputs": [
    {
     "data": {
      "text/plain": [
       "<matplotlib.axes._subplots.AxesSubplot at 0x110aa0e9a90>"
      ]
     },
     "execution_count": 17,
     "metadata": {},
     "output_type": "execute_result"
    },
    {
     "data": {
      "image/png": "[encoded data removed]",
      "text/plain": [
       "<Figure size 432x288 with 1 Axes>"
      ]
     },
     "metadata": {
      "needs_background": "light"
     },
     "output_type": "display_data"
    }
   ],
   "source": [
    "#plot boxplot of Debit VS Balance\n",
    "sns.boxplot(x='Debit',y='Balance',data=df)"
   ]
  },
  {
   "cell_type": "markdown",
   "metadata": {},
   "source": [
    "**Interest VS Balance**"
   ]
  },
  {
   "cell_type": "code",
   "execution_count": 18,
   "metadata": {},
   "outputs": [
    {
     "data": {
      "text/plain": [
       "<matplotlib.axes._subplots.AxesSubplot at 0x110aa172cc0>"
      ]
     },
     "execution_count": 18,
     "metadata": {},
     "output_type": "execute_result"
    },
    {
     "data": {
      "image/png": "[encoded data removed]",
      "text/plain": [
       "<Figure size 432x288 with 1 Axes>"
      ]
     },
     "metadata": {
      "needs_background": "light"
     },
     "output_type": "display_data"
    }
   ],
   "source": [
    "#plot boxplot of Interest VS Balance\n",
    "sns.boxplot(x='Interest',y='Balance',data=df)"
   ]
  },
  {
   "cell_type": "markdown",
   "metadata": {},
   "source": [
    "<h4>Conclusion</h4>"
   ]
  },
  {
   "cell_type": "markdown",
   "metadata": {},
   "source": [
    "It can be seen that the features 'ATM' and 'Services' showed a positive linear relationship with the target variable 'Balance' with correlation values of 0.7 and 0.4 respectively. However, the distributions of 'Balance' between the different categories in each of the variables 'City', 'Debit', and 'Interest' have significant overlaps, so these variables would not make good predictors.\n",
    "\n",
    "**Regression model predictors are:**\n",
    "* ATM\n",
    "* Services"
   ]
  },
  {
   "cell_type": "markdown",
   "metadata": {},
   "source": [
    "<h3>Building The Model</h3>"
   ]
  },
  {
   "cell_type": "code",
   "execution_count": 19,
   "metadata": {},
   "outputs": [
    {
     "data": {
      "text/plain": [
       "LinearRegression(copy_X=True, fit_intercept=True, n_jobs=None, normalize=False)"
      ]
     },
     "execution_count": 19,
     "metadata": {},
     "output_type": "execute_result"
    }
   ],
   "source": [
    "#library for linear regression\n",
    "from sklearn.linear_model import LinearRegression\n",
    "\n",
    "#define the linear model\n",
    "lm = LinearRegression()\n",
    "lm"
   ]
  },
  {
   "cell_type": "code",
   "execution_count": 20,
   "metadata": {},
   "outputs": [
    {
     "name": "stdout",
     "output_type": "stream",
     "text": [
      "The value of the intercept from the model is:  258.29242924370783\n",
      "The coefficients of the model are:  [91.43272499 67.88313284]\n"
     ]
    }
   ],
   "source": [
    "#define input and target variables \n",
    "X = df[['ATM','Services']]\n",
    "y = df['Balance']\n",
    "\n",
    "#fit the model\n",
    "lm.fit(X,y)\n",
    "#show the intercept and coefficients of the model\n",
    "print('The value of the intercept from the model is: ', lm.intercept_)\n",
    "print('The coefficients of the model are: ', lm.coef_)"
   ]
  },
  {
   "cell_type": "markdown",
   "metadata": {},
   "source": [
    "**Visualization:**\n",
    "\n",
    "One way that multiple linear regression models can be visualized is using Distribution Plots, where we can look at the distribution of the fitted values that result from the model and compare it to the distribution of the actual values."
   ]
  },
  {
   "cell_type": "code",
   "execution_count": 21,
   "metadata": {},
   "outputs": [],
   "source": [
    "#predict the target values from the model\n",
    "y_hat = lm.predict(X)"
   ]
  },
  {
   "cell_type": "code",
   "execution_count": 22,
   "metadata": {},
   "outputs": [
    {
     "data": {
      "text/plain": [
       "Text(0, 0.5, 'Proportion of Customers')"
      ]
     },
     "execution_count": 22,
     "metadata": {},
     "output_type": "execute_result"
    },
    {
     "data": {
      "image/png": "[encoded data removed]",
      "text/plain": [
       "<Figure size 432x288 with 1 Axes>"
      ]
     },
     "metadata": {
      "needs_background": "light"
     },
     "output_type": "display_data"
    }
   ],
   "source": [
    "#plot and compare the two curves\n",
    "ax1 = sns.distplot(y, hist=False, color=\"r\", label=\"Actual Values\")\n",
    "sns.distplot(y_hat, hist=False, color=\"b\", label=\"Fitted Values\" , ax=ax1)\n",
    "\n",
    "plt.title('Actual vs Fitted Values for Balance')\n",
    "plt.xlabel('Balance (in dollars)')\n",
    "plt.ylabel('Proportion of Customers')"
   ]
  },
  {
   "cell_type": "markdown",
   "metadata": {},
   "source": [
    "We can see that the fitted values are reasonably close to the actual values, since the two distributions overlap."
   ]
  },
  {
   "cell_type": "markdown",
   "metadata": {},
   "source": [
    "<h3>Model Evaluation</h3>"
   ]
  },
  {
   "cell_type": "markdown",
   "metadata": {},
   "source": [
    "Testing for Linear Regression Assumptions:\n",
    "* Linear relationship between input features and target variable\n",
    "* Normality of variables\n",
    "* No or little multicollinearity\n",
    "* Homoscedasticity"
   ]
  },
  {
   "cell_type": "markdown",
   "metadata": {},
   "source": [
    "<h4>1) Linearity between input and output variables</h4>"
   ]
  },
  {
   "cell_type": "markdown",
   "metadata": {},
   "source": [
    "To test this linear relationship, we will use Scatter Plots and visually inspect a linear relationship."
   ]
  },
  {
   "cell_type": "markdown",
   "metadata": {},
   "source": [
    "**ATM VS Balance**"
   ]
  },
  {
   "cell_type": "code",
   "execution_count": 23,
   "metadata": {},
   "outputs": [
    {
     "data": {
      "image/png": "[encoded data removed]",
      "text/plain": [
       "<Figure size 720x432 with 1 Axes>"
      ]
     },
     "metadata": {
      "needs_background": "light"
     },
     "output_type": "display_data"
    }
   ],
   "source": [
    "#plot a scatter plot of ATM VS Balance\n",
    "df.plot(kind='scatter', x='ATM', y='Balance', figsize=(10, 6), color='darkblue')\n",
    "\n",
    "plt.title('ATM vs Balance Linearity Test')\n",
    "plt.xlabel('ATM')\n",
    "plt.ylabel('Balance')\n",
    "\n",
    "plt.show()"
   ]
  },
  {
   "cell_type": "markdown",
   "metadata": {},
   "source": [
    "**Services VS Balance**"
   ]
  },
  {
   "cell_type": "code",
   "execution_count": 24,
   "metadata": {},
   "outputs": [
    {
     "data": {
      "image/png": "[encoded data removed]",
      "text/plain": [
       "<Figure size 720x432 with 1 Axes>"
      ]
     },
     "metadata": {
      "needs_background": "light"
     },
     "output_type": "display_data"
    }
   ],
   "source": [
    "#plot a scatter plot of Services VS Balance\n",
    "df.plot(kind='scatter', x='Services', y='Balance', figsize=(10, 6), color='darkblue')\n",
    "\n",
    "plt.title('Services vs Balance Linearity Test')\n",
    "plt.xlabel('Services')\n",
    "plt.ylabel('Balance')\n",
    "\n",
    "plt.show()"
   ]
  },
  {
   "cell_type": "markdown",
   "metadata": {},
   "source": [
    "**Conclusion**\n",
    "\n",
    "Although the points in the 'Services VS Balance' plot appear to be more scattered, it can be seen that both input variables have an overall linear relationship with the target variable."
   ]
  },
  {
   "cell_type": "markdown",
   "metadata": {},
   "source": [
    "<h4>2) Normality of Variables</h4>"
   ]
  },
  {
   "cell_type": "markdown",
   "metadata": {},
   "source": [
    "For this assumption, variable should follow a normal distribution, testing will be done using a Q-Q-Plot, a technique to compare two probability distributions in a visual manner."
   ]
  },
  {
   "cell_type": "code",
   "execution_count": 25,
   "metadata": {},
   "outputs": [],
   "source": [
    "#import library for Q-Q-Plot\n",
    "from scipy.stats import probplot"
   ]
  },
  {
   "cell_type": "markdown",
   "metadata": {},
   "source": [
    "**ATM**"
   ]
  },
  {
   "cell_type": "code",
   "execution_count": 26,
   "metadata": {},
   "outputs": [
    {
     "data": {
      "image/png": "[encoded data removed]",
      "text/plain": [
       "<Figure size 432x288 with 1 Axes>"
      ]
     },
     "metadata": {
      "needs_background": "light"
     },
     "output_type": "display_data"
    }
   ],
   "source": [
    "#Q-Q-Plot for ATM\n",
    "probplot(df['ATM'], dist=\"norm\", plot=plt)\n",
    "plt.show()"
   ]
  },
  {
   "cell_type": "markdown",
   "metadata": {},
   "source": [
    "**Services**"
   ]
  },
  {
   "cell_type": "code",
   "execution_count": 28,
   "metadata": {},
   "outputs": [
    {
     "data": {
      "image/png": "[encoded data removed]",
      "text/plain": [
       "<Figure size 432x288 with 1 Axes>"
      ]
     },
     "metadata": {
      "needs_background": "light"
     },
     "output_type": "display_data"
    }
   ],
   "source": [
    "#Q-Q-Plot for Services\n",
    "probplot(df['Services'], dist=\"norm\", plot=plt)\n",
    "plt.show()"
   ]
  },
  {
   "cell_type": "markdown",
   "metadata": {},
   "source": [
    "**Conclusion**\n",
    "\n",
    "Points in both plots are approximately located on the red line, indicating a normal distribution."
   ]
  },
  {
   "cell_type": "markdown",
   "metadata": {},
   "source": [
    "<h4>3) No or Little Multicollinearity</h4>"
   ]
  },
  {
   "cell_type": "markdown",
   "metadata": {},
   "source": [
    "Multiple regression assumes that the independent variables are not highly correlated with each other. This can be tested using Pearson Correlation Matrix."
   ]
  },
  {
   "cell_type": "code",
   "execution_count": 29,
   "metadata": {},
   "outputs": [
    {
     "data": {
      "text/html": [
       "<style  type=\"text/css\" >\n",
       "    #T_9cc50b9c_da36_11ea_83b5_f8cab812c288row0_col0 {\n",
       "            background-color:  #b40426;\n",
       "            color:  #f1f1f1;\n",
       "        }    #T_9cc50b9c_da36_11ea_83b5_f8cab812c288row0_col1 {\n",
       "            background-color:  #3b4cc0;\n",
       "            color:  #f1f1f1;\n",
       "        }    #T_9cc50b9c_da36_11ea_83b5_f8cab812c288row1_col0 {\n",
       "            background-color:  #3b4cc0;\n",
       "            color:  #f1f1f1;\n",
       "        }    #T_9cc50b9c_da36_11ea_83b5_f8cab812c288row1_col1 {\n",
       "            background-color:  #b40426;\n",
       "            color:  #f1f1f1;\n",
       "        }</style><table id=\"T_9cc50b9c_da36_11ea_83b5_f8cab812c288\" ><thead>    <tr>        <th class=\"blank level0\" ></th>        <th class=\"col_heading level0 col0\" >ATM</th>        <th class=\"col_heading level0 col1\" >Services</th>    </tr></thead><tbody>\n",
       "                <tr>\n",
       "                        <th id=\"T_9cc50b9c_da36_11ea_83b5_f8cab812c288level0_row0\" class=\"row_heading level0 row0\" >ATM</th>\n",
       "                        <td id=\"T_9cc50b9c_da36_11ea_83b5_f8cab812c288row0_col0\" class=\"data row0 col0\" >1</td>\n",
       "                        <td id=\"T_9cc50b9c_da36_11ea_83b5_f8cab812c288row0_col1\" class=\"data row0 col1\" >0.226541</td>\n",
       "            </tr>\n",
       "            <tr>\n",
       "                        <th id=\"T_9cc50b9c_da36_11ea_83b5_f8cab812c288level0_row1\" class=\"row_heading level0 row1\" >Services</th>\n",
       "                        <td id=\"T_9cc50b9c_da36_11ea_83b5_f8cab812c288row1_col0\" class=\"data row1 col0\" >0.226541</td>\n",
       "                        <td id=\"T_9cc50b9c_da36_11ea_83b5_f8cab812c288row1_col1\" class=\"data row1 col1\" >1</td>\n",
       "            </tr>\n",
       "    </tbody></table>"
      ],
      "text/plain": [
       "<pandas.io.formats.style.Styler at 0x110aa1ead30>"
      ]
     },
     "execution_count": 29,
     "metadata": {},
     "output_type": "execute_result"
    }
   ],
   "source": [
    "#calculate correlation matrix for the input variables\n",
    "corr = df[['ATM','Services']].corr()\n",
    "#use color coding\n",
    "corr.style.background_gradient(cmap='coolwarm')"
   ]
  },
  {
   "cell_type": "markdown",
   "metadata": {},
   "source": [
    "**Conclusion**\n",
    "\n",
    "The Pearson Correlation value between the independent variables ATM and Services is 0.2 showing low correlation."
   ]
  },
  {
   "cell_type": "markdown",
   "metadata": {},
   "source": [
    "<h4>4) Homoscedasticity</h4>"
   ]
  },
  {
   "cell_type": "markdown",
   "metadata": {},
   "source": [
    "This assumption states that the variance of error terms are similar across the values of the independent variables. A plot of residuals versus predicted values can show whether points are equally distributed across all values of the independent variables."
   ]
  },
  {
   "cell_type": "code",
   "execution_count": 30,
   "metadata": {},
   "outputs": [
    {
     "data": {
      "text/plain": [
       "<matplotlib.collections.PathCollection at 0x110ab0b32b0>"
      ]
     },
     "execution_count": 30,
     "metadata": {},
     "output_type": "execute_result"
    },
    {
     "data": {
      "image/png": "[encoded data removed]",
      "text/plain": [
       "<Figure size 432x288 with 1 Axes>"
      ]
     },
     "metadata": {
      "needs_background": "light"
     },
     "output_type": "display_data"
    }
   ],
   "source": [
    "#calculate residuals\n",
    "res = y-y_hat\n",
    "#plot a scatter plot of residuals VS fitted values\n",
    "plt.scatter(y_hat,res)"
   ]
  },
  {
   "cell_type": "markdown",
   "metadata": {},
   "source": [
    "**Conclusion**\n",
    "\n",
    "The residuals are distributed uniformly randomly around the zero x-axes and do not form specific clusters, then the assumption holds true."
   ]
  },
  {
   "cell_type": "markdown",
   "metadata": {},
   "source": [
    "<h3>Outliers</h3>"
   ]
  },
  {
   "cell_type": "markdown",
   "metadata": {},
   "source": [
    "Cook’s distance is a common measurement of a data point’s influence. It’s a way to find influential outliers in a set of predictor variables when performing a least-squares regression analysis."
   ]
  },
  {
   "cell_type": "code",
   "execution_count": 31,
   "metadata": {},
   "outputs": [
    {
     "name": "stderr",
     "output_type": "stream",
     "text": [
      "C:\\Users\\GTS\\Anaconda\\lib\\site-packages\\yellowbrick\\regressor\\influence.py:183: UserWarning: In Matplotlib 3.3 individual lines on a stem plot will be added as a LineCollection instead of individual lines. This significantly improves the performance of a stem plot. To remove this warning and switch to the new behaviour, set the \"use_line_collection\" keyword argument to True.\n",
      "  self.distance_, linefmt=self.linefmt, markerfmt=self.markerfmt\n"
     ]
    },
    {
     "data": {
      "image/png": "[encoded data removed]",
      "text/plain": [
       "<Figure size 576x396 with 1 Axes>"
      ]
     },
     "metadata": {},
     "output_type": "display_data"
    },
    {
     "data": {
      "text/plain": [
       "<matplotlib.axes._subplots.AxesSubplot at 0x110ab3e9f98>"
      ]
     },
     "execution_count": 31,
     "metadata": {},
     "output_type": "execute_result"
    }
   ],
   "source": [
    "#import library for Cook's distance\n",
    "from yellowbrick.regressor import CooksDistance\n",
    "\n",
    "#define input features and target variable\n",
    "X_cook = df[['ATM','Services']].values\n",
    "y_cook = df[\"Balance\"]\n",
    "\n",
    "#show plot\n",
    "visualizer = CooksDistance()\n",
    "visualizer.fit(X_cook, y_cook)\n",
    "visualizer.show()"
   ]
  },
  {
   "cell_type": "markdown",
   "metadata": {},
   "source": [
    "**Conclusion**\n",
    "\n",
    "As we can see from the plot, only one data point can be seen as an influential outlier."
   ]
  }
 ],
 "metadata": {
  "kernelspec": {
   "display_name": "Python 3",
   "language": "python",
   "name": "python3"
  },
  "language_info": {
   "codemirror_mode": {
    "name": "ipython",
    "version": 3
   },
   "file_extension": ".py",
   "mimetype": "text/x-python",
   "name": "python",
   "nbconvert_exporter": "python",
   "pygments_lexer": "ipython3",
   "version": "3.7.3"
  }
 },
 "nbformat": 4,
 "nbformat_minor": 4
}
